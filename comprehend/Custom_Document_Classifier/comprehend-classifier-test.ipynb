{
 "cells": [
  {
   "cell_type": "code",
   "execution_count": null,
   "metadata": {},
   "outputs": [],
   "source": [
    "# downloading bbc news dataset\n",
    "!wget http://mlg.ucd.ie/files/datasets/bbc-fulltext.zip"
   ]
  },
  {
   "cell_type": "code",
   "execution_count": null,
   "metadata": {},
   "outputs": [],
   "source": [
    "# unzipping bbc news dataset\n",
    "!unzip bbc-fulltext.zip -d bbc"
   ]
  },
  {
   "cell_type": "code",
   "execution_count": null,
   "metadata": {},
   "outputs": [],
   "source": [
    "import os\n",
    "import pandas as pd"
   ]
  },
  {
   "cell_type": "code",
   "execution_count": null,
   "metadata": {},
   "outputs": [],
   "source": [
    "# defining test dataframe\n",
    "df = pd.DataFrame()\n",
    "# defining test truth dataframe\n",
    "df_test_truth = pd.DataFrame()\n",
    "mapping = {}\n",
    "source_path = \"bbc/bbc/\""
   ]
  },
  {
   "cell_type": "code",
   "execution_count": null,
   "metadata": {},
   "outputs": [],
   "source": [
    "# looping through bbc/bbc/ directory\n",
    "for i in sorted(os.listdir(source_path)):\n",
    "    # checking if it is directory or not\n",
    "    if os.path.isdir(source_path+i):\n",
    "        # creating the dictionary with class as key and first 300 files as key\n",
    "        mapping[i] = sorted(os.listdir(source_path+i))[300:310]"
   ]
  },
  {
   "cell_type": "code",
   "execution_count": null,
   "metadata": {},
   "outputs": [],
   "source": [
    "mapping.keys()"
   ]
  },
  {
   "cell_type": "code",
   "execution_count": null,
   "metadata": {},
   "outputs": [],
   "source": [
    "# label or class or target list\n",
    "label = []\n",
    "# text file data list\n",
    "data = []\n",
    "# unpacking and iterating through dictionary\n",
    "for i, j in mapping.items():\n",
    "    # iterating through list of files for each class\n",
    "    for k in j:\n",
    "        # appending labels/class/target\n",
    "        label.append(i)\n",
    "        # reading the file and appending to data list\n",
    "        data.append(open(source_path+i+\"/\"+k, encoding=\"cp1252\").read().replace(\"\\n\", \" \"))\n"
   ]
  },
  {
   "cell_type": "code",
   "execution_count": null,
   "metadata": {},
   "outputs": [],
   "source": [
    "# creating test dataframe and assigning data without label\n",
    "df[\"document\"] = data\n",
    "# creating test truth dataframe and assiging data\n",
    "df_test_truth[\"label\"] = label\n",
    "df_test_truth[\"document\"] = data"
   ]
  },
  {
   "cell_type": "code",
   "execution_count": null,
   "metadata": {},
   "outputs": [],
   "source": [
    "print(\"Test data rows : \", df.shape[0])\n",
    "print(\"Test truth data rows : \", df_test_truth.shape[0])"
   ]
  },
  {
   "cell_type": "code",
   "execution_count": null,
   "metadata": {},
   "outputs": [],
   "source": [
    "# saving test data as csv file without index and headers\n",
    "df.to_csv(\"test.csv\", index=False, header=False)\n",
    "# saving test truth data as csv file without index and headers\n",
    "df_test_truth.to_csv(\"test_truth.csv\", index=False, header=False)"
   ]
  },
  {
   "cell_type": "code",
   "execution_count": null,
   "metadata": {},
   "outputs": [],
   "source": []
  }
 ],
 "metadata": {
  "kernelspec": {
   "display_name": "Python 3",
   "language": "python",
   "name": "python3"
  },
  "language_info": {
   "codemirror_mode": {
    "name": "ipython",
    "version": 3
   },
   "file_extension": ".py",
   "mimetype": "text/x-python",
   "name": "python",
   "nbconvert_exporter": "python",
   "pygments_lexer": "ipython3",
   "version": "3.6.5"
  }
 },
 "nbformat": 4,
 "nbformat_minor": 2
}
