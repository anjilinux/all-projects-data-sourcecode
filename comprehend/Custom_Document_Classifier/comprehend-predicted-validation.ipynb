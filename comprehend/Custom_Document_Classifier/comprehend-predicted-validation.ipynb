{
 "cells": [
  {
   "cell_type": "code",
   "execution_count": null,
   "metadata": {},
   "outputs": [],
   "source": [
    "import json\n",
    "import pandas as pd\n",
    "from pprint import pprint"
   ]
  },
  {
   "cell_type": "code",
   "execution_count": null,
   "metadata": {},
   "outputs": [],
   "source": [
    "# reading json line files\n",
    "with open('predictions.jsonl', 'r') as f:\n",
    "    f = f.readlines()"
   ]
  },
  {
   "cell_type": "code",
   "execution_count": null,
   "metadata": {},
   "outputs": [],
   "source": [
    "# predicted label list\n",
    "predictedLabels = []\n",
    "# looping through json lines\n",
    "for i in f:\n",
    "    # casting str json to json\n",
    "    j = json.loads(i)[\"Classes\"]\n",
    "    # fetching class with maximum score\n",
    "    predictedLabels.append(j[0]['Name'])"
   ]
  },
  {
   "cell_type": "code",
   "execution_count": null,
   "metadata": {},
   "outputs": [],
   "source": [
    "# reading test document\n",
    "df_test = pd.read_csv(\"test.csv\", header=None)\n",
    "# assigning header\n",
    "df_test.columns = [\"Document\"]"
   ]
  },
  {
   "cell_type": "code",
   "execution_count": null,
   "metadata": {},
   "outputs": [],
   "source": [
    "# creating new column and mapping/assigning label\n",
    "df_test[\"PredictedLabel\"] = predictedLabels"
   ]
  },
  {
   "cell_type": "code",
   "execution_count": null,
   "metadata": {},
   "outputs": [],
   "source": [
    "# readinf test truth file\n",
    "df_truth = pd.read_csv(\"test_truth.csv\", header=None)\n",
    "# assigning header\n",
    "df_truth.columns = [\"TruthLabel\", \"Document\"]"
   ]
  },
  {
   "cell_type": "code",
   "execution_count": null,
   "metadata": {},
   "outputs": [],
   "source": [
    "# merging both dataframe on Document column\n",
    "mergeDf = pd.merge(df_test, df_truth, on=[\"Document\"], how=\"inner\")"
   ]
  },
  {
   "cell_type": "code",
   "execution_count": null,
   "metadata": {},
   "outputs": [],
   "source": [
    "# checking/comparing two columns\n",
    "mergeDf.PredictedLabel == mergeDf.TruthLabel"
   ]
  },
  {
   "cell_type": "code",
   "execution_count": null,
   "metadata": {},
   "outputs": [],
   "source": [
    "mergeDf[mergeDf.PredictedLabel == mergeDf.TruthLabel].count()"
   ]
  },
  {
   "cell_type": "code",
   "execution_count": null,
   "metadata": {},
   "outputs": [],
   "source": []
  }
 ],
 "metadata": {
  "kernelspec": {
   "display_name": "Python 3",
   "language": "python",
   "name": "python3"
  },
  "language_info": {
   "codemirror_mode": {
    "name": "ipython",
    "version": 3
   },
   "file_extension": ".py",
   "mimetype": "text/x-python",
   "name": "python",
   "nbconvert_exporter": "python",
   "pygments_lexer": "ipython3",
   "version": "3.6.5"
  }
 },
 "nbformat": 4,
 "nbformat_minor": 2
}
