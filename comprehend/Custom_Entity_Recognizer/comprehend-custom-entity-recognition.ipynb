{
 "cells": [
  {
   "cell_type": "code",
   "execution_count": null,
   "metadata": {},
   "outputs": [],
   "source": [
    "# downloading BBC News dataset\n",
    "!wget http://mlg.ucd.ie/files/datasets/bbc-fulltext.zip"
   ]
  },
  {
   "cell_type": "code",
   "execution_count": null,
   "metadata": {},
   "outputs": [],
   "source": [
    "# unziping dataset\n",
    "!unzip bbc-fulltext.zip"
   ]
  },
  {
   "cell_type": "code",
   "execution_count": null,
   "metadata": {},
   "outputs": [],
   "source": [
    "import os\n",
    "from collections import Counter\n",
    "from nltk import bigrams"
   ]
  },
  {
   "cell_type": "code",
   "execution_count": null,
   "metadata": {},
   "outputs": [],
   "source": [
    "source_path = \"bbc/\"\n",
    "target = [\"business\"]"
   ]
  },
  {
   "cell_type": "code",
   "execution_count": null,
   "metadata": {},
   "outputs": [],
   "source": [
    "data = []\n",
    "# looping through bbc directory\n",
    "for t in target:\n",
    "    # looping through files in business class\n",
    "    for f in os.listdir(source_path+t):\n",
    "        # reading each file\n",
    "        file_read = open(source_path+t+\"/\"+f, encoding=\"cp1252\").read().replace(\"\\n\", \"\").replace(\"-\", \"\")\n",
    "        # appending file data in data list\n",
    "        data.append(file_read)"
   ]
  },
  {
   "cell_type": "code",
   "execution_count": null,
   "metadata": {},
   "outputs": [],
   "source": [
    "# tokenizing\n",
    "tok = []\n",
    "# looping through data list\n",
    "for i in data:\n",
    "    # spliting each element by space\n",
    "    for j in i.split():\n",
    "        # appending tokens\n",
    "        tok.append(j.replace(\"'\", \"\").replace('\"', \"\").replace(\".\", \"\").replace(\",\", \"\"))"
   ]
  },
  {
   "cell_type": "code",
   "execution_count": null,
   "metadata": {},
   "outputs": [],
   "source": [
    "# frequency of tokens\n",
    "Counter(tok).most_common()"
   ]
  },
  {
   "cell_type": "code",
   "execution_count": null,
   "metadata": {},
   "outputs": [],
   "source": [
    "# merging all the document into one by space\n",
    "bi_prep = ' '.join(i for i in data)"
   ]
  },
  {
   "cell_type": "code",
   "execution_count": null,
   "metadata": {},
   "outputs": [],
   "source": [
    "# creating bigrams\n",
    "bi_grams = list(bigrams(bi_prep.split()))"
   ]
  },
  {
   "cell_type": "code",
   "execution_count": null,
   "metadata": {},
   "outputs": [],
   "source": [
    "# frequency of bigrams\n",
    "Counter(bi_grams).most_common()"
   ]
  },
  {
   "cell_type": "code",
   "execution_count": null,
   "metadata": {},
   "outputs": [],
   "source": []
  }
 ],
 "metadata": {
  "kernelspec": {
   "display_name": "Python 3",
   "language": "python",
   "name": "python3"
  },
  "language_info": {
   "codemirror_mode": {
    "name": "ipython",
    "version": 3
   },
   "file_extension": ".py",
   "mimetype": "text/x-python",
   "name": "python",
   "nbconvert_exporter": "python",
   "pygments_lexer": "ipython3",
   "version": "3.6.5"
  }
 },
 "nbformat": 4,
 "nbformat_minor": 2
}
